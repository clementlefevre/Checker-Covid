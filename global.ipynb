{
 "cells": [
  {
   "cell_type": "code",
   "execution_count": 1,
   "metadata": {},
   "outputs": [],
   "source": [
    "from services.country_cleaner import *\n",
    "all_EU = []"
   ]
  },
  {
   "cell_type": "markdown",
   "metadata": {},
   "source": [
    "# Austria"
   ]
  },
  {
   "cell_type": "code",
   "execution_count": 2,
   "metadata": {},
   "outputs": [
    {
     "name": "stderr",
     "output_type": "stream",
     "text": [
      "/home/ramon/workspace/covid_19_JW/services/country_cleaner.py:37: SettingWithCopyWarning: \n",
      "A value is trying to be set on a copy of a slice from a DataFrame.\n",
      "Try using .loc[row_indexer,col_indexer] = value instead\n",
      "\n",
      "See the caveats in the documentation: https://pandas.pydata.org/pandas-docs/stable/user_guide/indexing.html#returning-a-view-versus-a-copy\n",
      "  df_translated[\"updated_on\"] = pd.to_datetime(df_translated[\"updated_on\"]).dt.date\n",
      "/home/ramon/workspace/covid_19_JW/services/country_cleaner.py:38: SettingWithCopyWarning: \n",
      "A value is trying to be set on a copy of a slice from a DataFrame.\n",
      "Try using .loc[row_indexer,col_indexer] = value instead\n",
      "\n",
      "See the caveats in the documentation: https://pandas.pydata.org/pandas-docs/stable/user_guide/indexing.html#returning-a-view-versus-a-copy\n",
      "  df_translated[\"date\"] = pd.to_datetime(df_translated[\"date\"]).dt.date\n"
     ]
    }
   ],
   "source": [
    "df_AT = clean_austria()\n",
    "all_EU.append(df_AT)"
   ]
  },
  {
   "cell_type": "markdown",
   "metadata": {},
   "source": [
    "# Belgium"
   ]
  },
  {
   "cell_type": "code",
   "execution_count": 3,
   "metadata": {},
   "outputs": [],
   "source": [
    "df_BE = clean_belgium()\n",
    "all_EU.append(df_BE)"
   ]
  },
  {
   "cell_type": "markdown",
   "metadata": {},
   "source": [
    "# Denmark"
   ]
  },
  {
   "cell_type": "code",
   "execution_count": 4,
   "metadata": {},
   "outputs": [
    {
     "name": "stderr",
     "output_type": "stream",
     "text": [
      "/home/ramon/workspace/covid_19_JW/env/lib/python3.7/site-packages/pandas/core/generic.py:5303: SettingWithCopyWarning: \n",
      "A value is trying to be set on a copy of a slice from a DataFrame.\n",
      "Try using .loc[row_indexer,col_indexer] = value instead\n",
      "\n",
      "See the caveats in the documentation: https://pandas.pydata.org/pandas-docs/stable/user_guide/indexing.html#returning-a-view-versus-a-copy\n",
      "  self[name] = value\n"
     ]
    }
   ],
   "source": [
    "df_DK = clean_denmark()\n",
    "all_EU.append(df_DK)"
   ]
  },
  {
   "cell_type": "markdown",
   "metadata": {},
   "source": [
    "# Estonia"
   ]
  },
  {
   "cell_type": "code",
   "execution_count": 5,
   "metadata": {},
   "outputs": [],
   "source": [
    "df_EE = clean_estonia()\n",
    "all_EU.append(df_EE)"
   ]
  },
  {
   "cell_type": "markdown",
   "metadata": {},
   "source": [
    "# Finland"
   ]
  },
  {
   "cell_type": "code",
   "execution_count": 6,
   "metadata": {},
   "outputs": [],
   "source": [
    "df_FI = clean_finland()\n",
    "all_EU.append(df_FI)"
   ]
  },
  {
   "cell_type": "markdown",
   "metadata": {},
   "source": [
    "# France"
   ]
  },
  {
   "cell_type": "code",
   "execution_count": 7,
   "metadata": {},
   "outputs": [],
   "source": [
    "df_FR = clean_france()\n",
    "all_EU.append(df_FR)"
   ]
  },
  {
   "cell_type": "markdown",
   "metadata": {},
   "source": [
    "# Germany"
   ]
  },
  {
   "cell_type": "code",
   "execution_count": 8,
   "metadata": {},
   "outputs": [
    {
     "name": "stderr",
     "output_type": "stream",
     "text": [
      "/home/ramon/workspace/covid_19_JW/services/country_cleaner.py:278: SettingWithCopyWarning: \n",
      "A value is trying to be set on a copy of a slice from a DataFrame.\n",
      "Try using .loc[row_indexer,col_indexer] = value instead\n",
      "\n",
      "See the caveats in the documentation: https://pandas.pydata.org/pandas-docs/stable/user_guide/indexing.html#returning-a-view-versus-a-copy\n",
      "  df_translated[\"date\"] = pd.to_datetime(df_translated[\"date\"])\n",
      "/home/ramon/workspace/covid_19_JW/services/country_cleaner.py:279: SettingWithCopyWarning: \n",
      "A value is trying to be set on a copy of a slice from a DataFrame.\n",
      "Try using .loc[row_indexer,col_indexer] = value instead\n",
      "\n",
      "See the caveats in the documentation: https://pandas.pydata.org/pandas-docs/stable/user_guide/indexing.html#returning-a-view-versus-a-copy\n",
      "  df_translated[\"date\"] = df_translated[\"date\"].dt.date\n"
     ]
    }
   ],
   "source": [
    "df_DE = clean_germany()\n",
    "all_EU.append(df_DE)"
   ]
  },
  {
   "cell_type": "markdown",
   "metadata": {},
   "source": [
    "# Ireland"
   ]
  },
  {
   "cell_type": "code",
   "execution_count": 9,
   "metadata": {},
   "outputs": [
    {
     "name": "stderr",
     "output_type": "stream",
     "text": [
      "/home/ramon/workspace/covid_19_JW/services/country_cleaner.py:306: SettingWithCopyWarning: \n",
      "A value is trying to be set on a copy of a slice from a DataFrame.\n",
      "Try using .loc[row_indexer,col_indexer] = value instead\n",
      "\n",
      "See the caveats in the documentation: https://pandas.pydata.org/pandas-docs/stable/user_guide/indexing.html#returning-a-view-versus-a-copy\n",
      "  df_translated[\"date\"] = pd.to_datetime(df[\"Date\"], unit=\"ms\").dt.date\n"
     ]
    }
   ],
   "source": [
    "df_IR = clean_ireland()\n",
    "all_EU.append(df_IR)"
   ]
  },
  {
   "cell_type": "markdown",
   "metadata": {},
   "source": [
    "# Italy"
   ]
  },
  {
   "cell_type": "code",
   "execution_count": 10,
   "metadata": {},
   "outputs": [
    {
     "name": "stderr",
     "output_type": "stream",
     "text": [
      "/home/ramon/workspace/covid_19_JW/services/country_cleaner.py:338: SettingWithCopyWarning: \n",
      "A value is trying to be set on a copy of a slice from a DataFrame.\n",
      "Try using .loc[row_indexer,col_indexer] = value instead\n",
      "\n",
      "See the caveats in the documentation: https://pandas.pydata.org/pandas-docs/stable/user_guide/indexing.html#returning-a-view-versus-a-copy\n",
      "  df_translated['date']=pd.to_datetime(df_translated['date']).dt.date\n"
     ]
    }
   ],
   "source": [
    "df_IT = clean_italy()\n",
    "all_EU.append(df_IT)"
   ]
  },
  {
   "cell_type": "markdown",
   "metadata": {},
   "source": [
    "# Netherland"
   ]
  },
  {
   "cell_type": "code",
   "execution_count": 11,
   "metadata": {},
   "outputs": [],
   "source": [
    "df_NL = clean_netherland()\n",
    "all_EU.append(df_NL)"
   ]
  },
  {
   "cell_type": "markdown",
   "metadata": {},
   "source": [
    "# Norway"
   ]
  },
  {
   "cell_type": "code",
   "execution_count": 12,
   "metadata": {},
   "outputs": [],
   "source": [
    "df_NO = clean_norway()\n",
    "all_EU.append(df_NO)"
   ]
  },
  {
   "cell_type": "markdown",
   "metadata": {},
   "source": [
    "# Portugal"
   ]
  },
  {
   "cell_type": "code",
   "execution_count": 13,
   "metadata": {},
   "outputs": [
    {
     "name": "stderr",
     "output_type": "stream",
     "text": [
      "/home/ramon/workspace/covid_19_JW/services/country_cleaner.py:426: SettingWithCopyWarning: \n",
      "A value is trying to be set on a copy of a slice from a DataFrame.\n",
      "Try using .loc[row_indexer,col_indexer] = value instead\n",
      "\n",
      "See the caveats in the documentation: https://pandas.pydata.org/pandas-docs/stable/user_guide/indexing.html#returning-a-view-versus-a-copy\n",
      "  df_translated[\"date\"] = pd.to_datetime(df_translated[\"date\"], unit=\"ms\")\n",
      "/home/ramon/workspace/covid_19_JW/services/country_cleaner.py:427: SettingWithCopyWarning: \n",
      "A value is trying to be set on a copy of a slice from a DataFrame.\n",
      "Try using .loc[row_indexer,col_indexer] = value instead\n",
      "\n",
      "See the caveats in the documentation: https://pandas.pydata.org/pandas-docs/stable/user_guide/indexing.html#returning-a-view-versus-a-copy\n",
      "  df_translated[\"date\"] = df_translated[\"date\"].dt.date\n"
     ]
    }
   ],
   "source": [
    "df_PT = clean_portugal()\n",
    "all_EU.append(df_PT)"
   ]
  },
  {
   "cell_type": "markdown",
   "metadata": {},
   "source": [
    "# Spain"
   ]
  },
  {
   "cell_type": "code",
   "execution_count": 14,
   "metadata": {},
   "outputs": [],
   "source": [
    "df_SP = clean_spain()\n",
    "all_EU.append(df_SP)"
   ]
  },
  {
   "cell_type": "markdown",
   "metadata": {},
   "source": [
    "# Switzerland"
   ]
  },
  {
   "cell_type": "code",
   "execution_count": 15,
   "metadata": {},
   "outputs": [],
   "source": [
    "df_CH = clean_swizerland()\n",
    "all_EU.append(df_CH)"
   ]
  },
  {
   "cell_type": "markdown",
   "metadata": {},
   "source": [
    "# Sweden"
   ]
  },
  {
   "cell_type": "code",
   "execution_count": 16,
   "metadata": {},
   "outputs": [],
   "source": [
    "df_SE = clean_sweden()\n",
    "all_EU.append(df_SE)"
   ]
  },
  {
   "cell_type": "code",
   "execution_count": 18,
   "metadata": {},
   "outputs": [
    {
     "data": {
      "text/html": [
       "<div>\n",
       "<style scoped>\n",
       "    .dataframe tbody tr th:only-of-type {\n",
       "        vertical-align: middle;\n",
       "    }\n",
       "\n",
       "    .dataframe tbody tr th {\n",
       "        vertical-align: top;\n",
       "    }\n",
       "\n",
       "    .dataframe thead th {\n",
       "        text-align: right;\n",
       "    }\n",
       "</style>\n",
       "<table border=\"1\" class=\"dataframe\">\n",
       "  <thead>\n",
       "    <tr style=\"text-align: right;\">\n",
       "      <th></th>\n",
       "      <th>date</th>\n",
       "      <th>key</th>\n",
       "      <th>value</th>\n",
       "      <th>updated_on</th>\n",
       "      <th>source_url</th>\n",
       "      <th>filename</th>\n",
       "      <th>country</th>\n",
       "    </tr>\n",
       "  </thead>\n",
       "  <tbody>\n",
       "    <tr>\n",
       "      <th>1</th>\n",
       "      <td>2020-03-16</td>\n",
       "      <td>tested</td>\n",
       "      <td>2200.0</td>\n",
       "      <td>2020-04-26</td>\n",
       "      <td>https://api.apify.com/v2/datasets/73pVXuygDYAt...</td>\n",
       "      <td>total.csv</td>\n",
       "      <td>switzerland</td>\n",
       "    </tr>\n",
       "    <tr>\n",
       "      <th>4</th>\n",
       "      <td>2020-03-17</td>\n",
       "      <td>tested</td>\n",
       "      <td>2650.0</td>\n",
       "      <td>2020-04-26</td>\n",
       "      <td>https://api.apify.com/v2/datasets/73pVXuygDYAt...</td>\n",
       "      <td>total.csv</td>\n",
       "      <td>switzerland</td>\n",
       "    </tr>\n",
       "    <tr>\n",
       "      <th>6</th>\n",
       "      <td>2020-03-19</td>\n",
       "      <td>tested</td>\n",
       "      <td>3888.0</td>\n",
       "      <td>2020-04-26</td>\n",
       "      <td>https://api.apify.com/v2/datasets/73pVXuygDYAt...</td>\n",
       "      <td>total.csv</td>\n",
       "      <td>switzerland</td>\n",
       "    </tr>\n",
       "    <tr>\n",
       "      <th>7</th>\n",
       "      <td>2020-03-20</td>\n",
       "      <td>tested</td>\n",
       "      <td>4840.0</td>\n",
       "      <td>2020-04-26</td>\n",
       "      <td>https://api.apify.com/v2/datasets/73pVXuygDYAt...</td>\n",
       "      <td>total.csv</td>\n",
       "      <td>switzerland</td>\n",
       "    </tr>\n",
       "    <tr>\n",
       "      <th>215</th>\n",
       "      <td>2020-03-23</td>\n",
       "      <td>tested</td>\n",
       "      <td>8060.0</td>\n",
       "      <td>2020-04-26</td>\n",
       "      <td>https://api.apify.com/v2/datasets/73pVXuygDYAt...</td>\n",
       "      <td>total.csv</td>\n",
       "      <td>switzerland</td>\n",
       "    </tr>\n",
       "    <tr>\n",
       "      <th>...</th>\n",
       "      <td>...</td>\n",
       "      <td>...</td>\n",
       "      <td>...</td>\n",
       "      <td>...</td>\n",
       "      <td>...</td>\n",
       "      <td>...</td>\n",
       "      <td>...</td>\n",
       "    </tr>\n",
       "    <tr>\n",
       "      <th>961</th>\n",
       "      <td>2020-04-21</td>\n",
       "      <td>dead</td>\n",
       "      <td>1187.0</td>\n",
       "      <td>2020-04-26</td>\n",
       "      <td>https://api.apify.com/v2/datasets/73pVXuygDYAt...</td>\n",
       "      <td>total.csv</td>\n",
       "      <td>switzerland</td>\n",
       "    </tr>\n",
       "    <tr>\n",
       "      <th>962</th>\n",
       "      <td>2020-04-22</td>\n",
       "      <td>dead</td>\n",
       "      <td>1217.0</td>\n",
       "      <td>2020-04-26</td>\n",
       "      <td>https://api.apify.com/v2/datasets/73pVXuygDYAt...</td>\n",
       "      <td>total.csv</td>\n",
       "      <td>switzerland</td>\n",
       "    </tr>\n",
       "    <tr>\n",
       "      <th>963</th>\n",
       "      <td>2020-04-23</td>\n",
       "      <td>dead</td>\n",
       "      <td>1268.0</td>\n",
       "      <td>2020-04-26</td>\n",
       "      <td>https://api.apify.com/v2/datasets/73pVXuygDYAt...</td>\n",
       "      <td>total.csv</td>\n",
       "      <td>switzerland</td>\n",
       "    </tr>\n",
       "    <tr>\n",
       "      <th>964</th>\n",
       "      <td>2020-04-24</td>\n",
       "      <td>dead</td>\n",
       "      <td>1309.0</td>\n",
       "      <td>2020-04-26</td>\n",
       "      <td>https://api.apify.com/v2/datasets/73pVXuygDYAt...</td>\n",
       "      <td>total.csv</td>\n",
       "      <td>switzerland</td>\n",
       "    </tr>\n",
       "    <tr>\n",
       "      <th>965</th>\n",
       "      <td>2020-04-25</td>\n",
       "      <td>dead</td>\n",
       "      <td>1329.0</td>\n",
       "      <td>2020-04-26</td>\n",
       "      <td>https://api.apify.com/v2/datasets/73pVXuygDYAt...</td>\n",
       "      <td>total.csv</td>\n",
       "      <td>switzerland</td>\n",
       "    </tr>\n",
       "  </tbody>\n",
       "</table>\n",
       "<p>99 rows × 7 columns</p>\n",
       "</div>"
      ],
      "text/plain": [
       "           date     key   value  updated_on  \\\n",
       "1    2020-03-16  tested  2200.0  2020-04-26   \n",
       "4    2020-03-17  tested  2650.0  2020-04-26   \n",
       "6    2020-03-19  tested  3888.0  2020-04-26   \n",
       "7    2020-03-20  tested  4840.0  2020-04-26   \n",
       "215  2020-03-23  tested  8060.0  2020-04-26   \n",
       "..          ...     ...     ...         ...   \n",
       "961  2020-04-21    dead  1187.0  2020-04-26   \n",
       "962  2020-04-22    dead  1217.0  2020-04-26   \n",
       "963  2020-04-23    dead  1268.0  2020-04-26   \n",
       "964  2020-04-24    dead  1309.0  2020-04-26   \n",
       "965  2020-04-25    dead  1329.0  2020-04-26   \n",
       "\n",
       "                                            source_url   filename      country  \n",
       "1    https://api.apify.com/v2/datasets/73pVXuygDYAt...  total.csv  switzerland  \n",
       "4    https://api.apify.com/v2/datasets/73pVXuygDYAt...  total.csv  switzerland  \n",
       "6    https://api.apify.com/v2/datasets/73pVXuygDYAt...  total.csv  switzerland  \n",
       "7    https://api.apify.com/v2/datasets/73pVXuygDYAt...  total.csv  switzerland  \n",
       "215  https://api.apify.com/v2/datasets/73pVXuygDYAt...  total.csv  switzerland  \n",
       "..                                                 ...        ...          ...  \n",
       "961  https://api.apify.com/v2/datasets/73pVXuygDYAt...  total.csv  switzerland  \n",
       "962  https://api.apify.com/v2/datasets/73pVXuygDYAt...  total.csv  switzerland  \n",
       "963  https://api.apify.com/v2/datasets/73pVXuygDYAt...  total.csv  switzerland  \n",
       "964  https://api.apify.com/v2/datasets/73pVXuygDYAt...  total.csv  switzerland  \n",
       "965  https://api.apify.com/v2/datasets/73pVXuygDYAt...  total.csv  switzerland  \n",
       "\n",
       "[99 rows x 7 columns]"
      ]
     },
     "execution_count": 18,
     "metadata": {},
     "output_type": "execute_result"
    }
   ],
   "source": [
    "df_SE"
   ]
  },
  {
   "cell_type": "code",
   "execution_count": 17,
   "metadata": {},
   "outputs": [],
   "source": [
    "df = pd.DataFrame()\n",
    "for d in all_EU:\n",
    "    df = pd.concat([df,d],axis=0)\n",
    "    \n",
    "df.to_csv(\"all_EU.csv\")"
   ]
  },
  {
   "cell_type": "code",
   "execution_count": null,
   "metadata": {},
   "outputs": [],
   "source": []
  }
 ],
 "metadata": {
  "kernelspec": {
   "display_name": "covid_19",
   "language": "python",
   "name": "covid_19"
  },
  "language_info": {
   "codemirror_mode": {
    "name": "ipython",
    "version": 3
   },
   "file_extension": ".py",
   "mimetype": "text/x-python",
   "name": "python",
   "nbconvert_exporter": "python",
   "pygments_lexer": "ipython3",
   "version": "3.7.4"
  }
 },
 "nbformat": 4,
 "nbformat_minor": 2
}
