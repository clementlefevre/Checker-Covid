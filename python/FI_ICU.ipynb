{
 "cells": [
  {
   "cell_type": "code",
   "execution_count": 76,
   "metadata": {},
   "outputs": [
    {
     "data": {
      "text/plain": [
       "200"
      ]
     },
     "execution_count": 76,
     "metadata": {},
     "output_type": "execute_result"
    }
   ],
   "source": [
    "from tabula import read_pdf\n",
    "import requests\n",
    "from lxml import html\n",
    "import pandas as pd\n",
    "\n",
    "\n",
    "URL = \"https://www.statista.com/statistics/1105720/patients-hospitalized-due-to-coronavirus-in-denmark/\"\n",
    "\n",
    "r = requests.get(URL)\n",
    "r.status_code\n",
    "\n",
    "tree = html.fromstring(r.text)\n",
    "data = tree.xpath(\"//table[@id='statTableHTML']//td/text()\")\n",
    "listOdd = data[1::2] # Elements from list1 starting from 1 iterating by 2\n",
    "listEven = data[::2] # Elements from list1 starting from 0 iterating by 2\n",
    "df = pd.DataFrame({'value':listOdd,'date':listEven})\n",
    "\n",
    "df['date']=df['date']+ \" \"+str(2020)\n",
    "df['date'] = pd.to_datetime(df['date'])\n",
    "df['source_url']=URL\n",
    "df['filename']=\"\""
   ]
  },
  {
   "cell_type": "code",
   "execution_count": 118,
   "metadata": {},
   "outputs": [
    {
     "data": {
      "text/plain": [
       "200"
      ]
     },
     "execution_count": 118,
     "metadata": {},
     "output_type": "execute_result"
    }
   ],
   "source": [
    "headers = {\n",
    "    \"User-Agent\": \"Mozilla/5.0 (Macintosh; Intel Mac OS X 10_10_1) AppleWebKit/537.36 (KHTML, like Gecko) Chrome/39.0.2171.95 Safari/537.36\"\n",
    "}\n",
    "URL = \"https://thl.fi/en/web/infectious-diseases/what-s-new/coronavirus-covid-19-latest-updates/situation-update-on-coronavirus\"\n",
    "\n",
    "r = requests.get(URL,headers=headers)\n",
    "r.status_code"
   ]
  },
  {
   "cell_type": "code",
   "execution_count": 132,
   "metadata": {},
   "outputs": [],
   "source": [
    "tree = html.fromstring(r.content)\n",
    "\n",
    "udpate_raw_string = tree.xpath(\"//strong[contains(.,'Updated on')]/text()\")[\n",
    "    0\n",
    "]\n",
    "\n",
    "from datetime import datetime\n",
    "import unicodedata\n",
    "update_string = unicodedata.normalize(\"NFKD\",udpate_raw_string)\n",
    "update_string\n",
    "\n",
    "update_string = update_string.replace(\"Updated on \",\"\").replace(\"at\",\"2020\").replace(\".\",\"\")\n",
    "print(update_string)\n",
    "datetime_update = datetime.strptime(update_string, \"%d %B %Y %H:%M\")\n",
    "datetime_update"
   ]
  },
  {
   "cell_type": "code",
   "execution_count": null,
   "metadata": {},
   "outputs": [],
   "source": []
  },
  {
   "cell_type": "code",
   "execution_count": 104,
   "metadata": {},
   "outputs": [
    {
     "data": {
      "text/plain": [
       "200"
      ]
     },
     "execution_count": 104,
     "metadata": {},
     "output_type": "execute_result"
    }
   ],
   "source": [
    "r = requests.get(URL,headers=headers)\n",
    "r.status_code\n",
    "\n",
    "df = pd.read_html(r.content)\n",
    "\n",
    "df = df[0]\n",
    "df.columns =  df.iloc[0]\n",
    "\n",
    "df.columns=['area','curr_hospi','curr_ipc','curr_icu','dead']\n",
    "\n",
    "df.tail(1)"
   ]
  }
 ],
 "metadata": {
  "kernelspec": {
   "display_name": "Python 3",
   "language": "python",
   "name": "python3"
  },
  "language_info": {
   "codemirror_mode": {
    "name": "ipython",
    "version": 3
   },
   "file_extension": ".py",
   "mimetype": "text/x-python",
   "name": "python",
   "nbconvert_exporter": "python",
   "pygments_lexer": "ipython3",
   "version": "3.7.4"
  }
 },
 "nbformat": 4,
 "nbformat_minor": 2
}
